{
 "cells": [
  {
   "cell_type": "markdown",
   "metadata": {},
   "source": [
    "# K-fold Croos Validation for CNN model using TensorFlow"
   ]
  },
  {
   "cell_type": "markdown",
   "metadata": {},
   "source": [
    "### Import the necessary libraries"
   ]
  },
  {
   "cell_type": "code",
   "execution_count": 3,
   "metadata": {},
   "outputs": [
    {
     "name": "stdout",
     "output_type": "stream",
     "text": [
      "WARNING:tensorflow:From C:\\Users\\alpya\\AppData\\Local\\Packages\\PythonSoftwareFoundation.Python.3.10_qbz5n2kfra8p0\\LocalCache\\local-packages\\Python310\\site-packages\\keras\\src\\losses.py:2976: The name tf.losses.sparse_softmax_cross_entropy is deprecated. Please use tf.compat.v1.losses.sparse_softmax_cross_entropy instead.\n",
      "\n"
     ]
    }
   ],
   "source": [
    "import pandas as pd\n",
    "from sklearn.model_selection import train_test_split\n",
    "from tensorflow.keras.preprocessing.text import Tokenizer\n",
    "from tensorflow.keras.preprocessing.sequence import pad_sequences\n",
    "import mlflow\n",
    "import mlflow.keras\n",
    "from sklearn.model_selection import KFold\n",
    "from tensorflow.keras.models import Sequential\n",
    "from sklearn.metrics import accuracy_score, precision_score, recall_score, f1_score\n",
    "import numpy as np\n",
    "from matplotlib import pyplot as plt\n",
    "import seaborn as sns\n",
    "from tensorflow.keras.layers import Embedding, Conv1D, GlobalMaxPooling1D, Dense, Dropout, MaxPooling1D"
   ]
  },
  {
   "cell_type": "markdown",
   "metadata": {},
   "source": [
    "### Load the Dataset"
   ]
  },
  {
   "cell_type": "code",
   "execution_count": 4,
   "metadata": {},
   "outputs": [
    {
     "data": {
      "text/html": [
       "<div>\n",
       "<style scoped>\n",
       "    .dataframe tbody tr th:only-of-type {\n",
       "        vertical-align: middle;\n",
       "    }\n",
       "\n",
       "    .dataframe tbody tr th {\n",
       "        vertical-align: top;\n",
       "    }\n",
       "\n",
       "    .dataframe thead th {\n",
       "        text-align: right;\n",
       "    }\n",
       "</style>\n",
       "<table border=\"1\" class=\"dataframe\">\n",
       "  <thead>\n",
       "    <tr style=\"text-align: right;\">\n",
       "      <th></th>\n",
       "      <th>review</th>\n",
       "      <th>label</th>\n",
       "    </tr>\n",
       "  </thead>\n",
       "  <tbody>\n",
       "    <tr>\n",
       "      <th>0</th>\n",
       "      <td>Seems more transparent &amp; meaningful issues.</td>\n",
       "      <td>rating</td>\n",
       "    </tr>\n",
       "    <tr>\n",
       "      <th>1</th>\n",
       "      <td>The best app for editing texts</td>\n",
       "      <td>rating</td>\n",
       "    </tr>\n",
       "    <tr>\n",
       "      <th>2</th>\n",
       "      <td>It seems like it would be a great addition to ...</td>\n",
       "      <td>feature request</td>\n",
       "    </tr>\n",
       "    <tr>\n",
       "      <th>3</th>\n",
       "      <td>Its really fun and any age can play it and enj...</td>\n",
       "      <td>user experience</td>\n",
       "    </tr>\n",
       "    <tr>\n",
       "      <th>4</th>\n",
       "      <td>Hey whatsApp , atomic_number_53 am experiancin...</td>\n",
       "      <td>bug report</td>\n",
       "    </tr>\n",
       "  </tbody>\n",
       "</table>\n",
       "</div>"
      ],
      "text/plain": [
       "                                              review            label\n",
       "0        Seems more transparent & meaningful issues.           rating\n",
       "1                     The best app for editing texts           rating\n",
       "2  It seems like it would be a great addition to ...  feature request\n",
       "3  Its really fun and any age can play it and enj...  user experience\n",
       "4  Hey whatsApp , atomic_number_53 am experiancin...       bug report"
      ]
     },
     "execution_count": 4,
     "metadata": {},
     "output_type": "execute_result"
    }
   ],
   "source": [
    "df = pd.read_csv('randomized_balanced.csv')\n",
    "df.head()"
   ]
  },
  {
   "cell_type": "markdown",
   "metadata": {},
   "source": [
    "## Start of Preprocessing"
   ]
  },
  {
   "cell_type": "code",
   "execution_count": 5,
   "metadata": {},
   "outputs": [
    {
     "data": {
      "text/html": [
       "<div>\n",
       "<style scoped>\n",
       "    .dataframe tbody tr th:only-of-type {\n",
       "        vertical-align: middle;\n",
       "    }\n",
       "\n",
       "    .dataframe tbody tr th {\n",
       "        vertical-align: top;\n",
       "    }\n",
       "\n",
       "    .dataframe thead th {\n",
       "        text-align: right;\n",
       "    }\n",
       "</style>\n",
       "<table border=\"1\" class=\"dataframe\">\n",
       "  <thead>\n",
       "    <tr style=\"text-align: right;\">\n",
       "      <th></th>\n",
       "      <th>review</th>\n",
       "      <th>label</th>\n",
       "      <th>count</th>\n",
       "    </tr>\n",
       "  </thead>\n",
       "  <tbody>\n",
       "    <tr>\n",
       "      <th>0</th>\n",
       "      <td>Seems more transparent &amp; meaningful issues.</td>\n",
       "      <td>rating</td>\n",
       "      <td>6</td>\n",
       "    </tr>\n",
       "    <tr>\n",
       "      <th>1</th>\n",
       "      <td>The best app for editing texts</td>\n",
       "      <td>rating</td>\n",
       "      <td>6</td>\n",
       "    </tr>\n",
       "    <tr>\n",
       "      <th>2</th>\n",
       "      <td>It seems like it would be a great addition to ...</td>\n",
       "      <td>feature request</td>\n",
       "      <td>27</td>\n",
       "    </tr>\n",
       "    <tr>\n",
       "      <th>3</th>\n",
       "      <td>Its really fun and any age can play it and enj...</td>\n",
       "      <td>user experience</td>\n",
       "      <td>20</td>\n",
       "    </tr>\n",
       "    <tr>\n",
       "      <th>4</th>\n",
       "      <td>Hey whatsApp , atomic_number_53 am experiancin...</td>\n",
       "      <td>bug report</td>\n",
       "      <td>43</td>\n",
       "    </tr>\n",
       "  </tbody>\n",
       "</table>\n",
       "</div>"
      ],
      "text/plain": [
       "                                              review            label  count\n",
       "0        Seems more transparent & meaningful issues.           rating      6\n",
       "1                     The best app for editing texts           rating      6\n",
       "2  It seems like it would be a great addition to ...  feature request     27\n",
       "3  Its really fun and any age can play it and enj...  user experience     20\n",
       "4  Hey whatsApp , atomic_number_53 am experiancin...       bug report     43"
      ]
     },
     "execution_count": 5,
     "metadata": {},
     "output_type": "execute_result"
    }
   ],
   "source": [
    "df['count'] = df['review'].apply(lambda x: len(x.split())) # add a column for the number of words in the review\n",
    "df.head()"
   ]
  },
  {
   "cell_type": "markdown",
   "metadata": {},
   "source": [
    "### Get the number of word distrubution in the dataset"
   ]
  },
  {
   "cell_type": "code",
   "execution_count": 6,
   "metadata": {},
   "outputs": [
    {
     "data": {
      "text/plain": [
       "<Figure size 800x800 with 0 Axes>"
      ]
     },
     "metadata": {},
     "output_type": "display_data"
    },
    {
     "data": {
      "image/png": "[encoded data removed]",
      "text/plain": [
       "<Figure size 500x500 with 1 Axes>"
      ]
     },
     "metadata": {},
     "output_type": "display_data"
    }
   ],
   "source": [
    "plt.figure(figsize= (8, 8))\n",
    "\n",
    "sns.displot(df['count'])\n",
    "\n",
    "plt.xlim(0, 150)\n",
    "\n",
    "plt.xlabel('The num of words ', fontsize = 16)\n",
    "plt.title(\"The Number of Words Distribution\", fontsize = 18)\n",
    "plt.show()"
   ]
  },
  {
   "cell_type": "markdown",
   "metadata": {},
   "source": [
    "### Assign a Unique Integer for each target Class"
   ]
  },
  {
   "cell_type": "code",
   "execution_count": 7,
   "metadata": {},
   "outputs": [
    {
     "data": {
      "text/html": [
       "<div>\n",
       "<style scoped>\n",
       "    .dataframe tbody tr th:only-of-type {\n",
       "        vertical-align: middle;\n",
       "    }\n",
       "\n",
       "    .dataframe tbody tr th {\n",
       "        vertical-align: top;\n",
       "    }\n",
       "\n",
       "    .dataframe thead th {\n",
       "        text-align: right;\n",
       "    }\n",
       "</style>\n",
       "<table border=\"1\" class=\"dataframe\">\n",
       "  <thead>\n",
       "    <tr style=\"text-align: right;\">\n",
       "      <th></th>\n",
       "      <th>review</th>\n",
       "      <th>label</th>\n",
       "      <th>count</th>\n",
       "      <th>encoded_text</th>\n",
       "    </tr>\n",
       "  </thead>\n",
       "  <tbody>\n",
       "    <tr>\n",
       "      <th>0</th>\n",
       "      <td>Seems more transparent &amp; meaningful issues.</td>\n",
       "      <td>rating</td>\n",
       "      <td>6</td>\n",
       "      <td>2</td>\n",
       "    </tr>\n",
       "    <tr>\n",
       "      <th>1</th>\n",
       "      <td>The best app for editing texts</td>\n",
       "      <td>rating</td>\n",
       "      <td>6</td>\n",
       "      <td>2</td>\n",
       "    </tr>\n",
       "    <tr>\n",
       "      <th>2</th>\n",
       "      <td>It seems like it would be a great addition to ...</td>\n",
       "      <td>feature request</td>\n",
       "      <td>27</td>\n",
       "      <td>1</td>\n",
       "    </tr>\n",
       "    <tr>\n",
       "      <th>3</th>\n",
       "      <td>Its really fun and any age can play it and enj...</td>\n",
       "      <td>user experience</td>\n",
       "      <td>20</td>\n",
       "      <td>3</td>\n",
       "    </tr>\n",
       "    <tr>\n",
       "      <th>4</th>\n",
       "      <td>Hey whatsApp , atomic_number_53 am experiancin...</td>\n",
       "      <td>bug report</td>\n",
       "      <td>43</td>\n",
       "      <td>0</td>\n",
       "    </tr>\n",
       "    <tr>\n",
       "      <th>5</th>\n",
       "      <td>Good app really really Best app Thanks Faceboo...</td>\n",
       "      <td>rating</td>\n",
       "      <td>9</td>\n",
       "      <td>2</td>\n",
       "    </tr>\n",
       "    <tr>\n",
       "      <th>6</th>\n",
       "      <td>I think we should get more.</td>\n",
       "      <td>feature request</td>\n",
       "      <td>6</td>\n",
       "      <td>1</td>\n",
       "    </tr>\n",
       "    <tr>\n",
       "      <th>7</th>\n",
       "      <td>No option for dark mode on my Motorola g5 stylus</td>\n",
       "      <td>feature request</td>\n",
       "      <td>10</td>\n",
       "      <td>1</td>\n",
       "    </tr>\n",
       "    <tr>\n",
       "      <th>8</th>\n",
       "      <td>atomic_number_53 gave it a 4 star because I co...</td>\n",
       "      <td>bug report</td>\n",
       "      <td>19</td>\n",
       "      <td>0</td>\n",
       "    </tr>\n",
       "    <tr>\n",
       "      <th>9</th>\n",
       "      <td>Not what it use to be, too many ads. Not enoug...</td>\n",
       "      <td>user experience</td>\n",
       "      <td>47</td>\n",
       "      <td>3</td>\n",
       "    </tr>\n",
       "  </tbody>\n",
       "</table>\n",
       "</div>"
      ],
      "text/plain": [
       "                                              review            label  count  \\\n",
       "0        Seems more transparent & meaningful issues.           rating      6   \n",
       "1                     The best app for editing texts           rating      6   \n",
       "2  It seems like it would be a great addition to ...  feature request     27   \n",
       "3  Its really fun and any age can play it and enj...  user experience     20   \n",
       "4  Hey whatsApp , atomic_number_53 am experiancin...       bug report     43   \n",
       "5  Good app really really Best app Thanks Faceboo...           rating      9   \n",
       "6                        I think we should get more.  feature request      6   \n",
       "7   No option for dark mode on my Motorola g5 stylus  feature request     10   \n",
       "8  atomic_number_53 gave it a 4 star because I co...       bug report     19   \n",
       "9  Not what it use to be, too many ads. Not enoug...  user experience     47   \n",
       "\n",
       "   encoded_text  \n",
       "0             2  \n",
       "1             2  \n",
       "2             1  \n",
       "3             3  \n",
       "4             0  \n",
       "5             2  \n",
       "6             1  \n",
       "7             1  \n",
       "8             0  \n",
       "9             3  "
      ]
     },
     "execution_count": 7,
     "metadata": {},
     "output_type": "execute_result"
    }
   ],
   "source": [
    "df['encoded_text'] = df['label'].astype('category').cat.codes # encode the class labels\n",
    "\n",
    "df.head(10)"
   ]
  },
  {
   "cell_type": "code",
   "execution_count": 8,
   "metadata": {},
   "outputs": [],
   "source": [
    "data_texts = df['review'] \n",
    "data_labels = df['encoded_text']"
   ]
  },
  {
   "cell_type": "markdown",
   "metadata": {},
   "source": [
    "## K-Fold Cross Validation for CNN Model"
   ]
  },
  {
   "cell_type": "code",
   "execution_count": 10,
   "metadata": {},
   "outputs": [
    {
     "name": "stdout",
     "output_type": "stream",
     "text": [
      "Fold 1\n",
      "Epoch 1/5\n",
      "800/800 [==============================] - 4s 4ms/step - loss: 0.9588 - accuracy: 0.6159 - val_loss: 0.6171 - val_accuracy: 0.7713\n",
      "Epoch 2/5\n",
      "800/800 [==============================] - 5s 6ms/step - loss: 0.3824 - accuracy: 0.8723 - val_loss: 0.3774 - val_accuracy: 0.8712\n",
      "Epoch 3/5\n",
      "800/800 [==============================] - 11s 14ms/step - loss: 0.1525 - accuracy: 0.9563 - val_loss: 0.2899 - val_accuracy: 0.9038\n",
      "Epoch 4/5\n",
      "800/800 [==============================] - 12s 15ms/step - loss: 0.0760 - accuracy: 0.9809 - val_loss: 0.2663 - val_accuracy: 0.9194\n",
      "Epoch 5/5\n",
      "800/800 [==============================] - 9s 12ms/step - loss: 0.0547 - accuracy: 0.9866 - val_loss: 0.2729 - val_accuracy: 0.9225\n",
      "50/50 [==============================] - 1s 8ms/step\n",
      "Fold 1\n",
      "Accuracy: 0.9225, - Precision: [0.94132653 0.94258373 0.91563275 0.88888889], - Recall: [0.91563275 0.92488263 0.9225     0.92722372], - F1 Score: [0.92830189 0.93364929 0.91905355 0.90765172]\n",
      "Fold 2\n",
      "Epoch 1/5\n",
      "800/800 [==============================] - 12s 13ms/step - loss: 0.9387 - accuracy: 0.6272 - val_loss: 0.6404 - val_accuracy: 0.7606\n",
      "Epoch 2/5\n",
      "800/800 [==============================] - 11s 13ms/step - loss: 0.3800 - accuracy: 0.8739 - val_loss: 0.4124 - val_accuracy: 0.8656\n",
      "Epoch 3/5\n",
      "800/800 [==============================] - 11s 13ms/step - loss: 0.1621 - accuracy: 0.9525 - val_loss: 0.3323 - val_accuracy: 0.9038\n",
      "Epoch 4/5\n",
      "800/800 [==============================] - 11s 13ms/step - loss: 0.0807 - accuracy: 0.9795 - val_loss: 0.3479 - val_accuracy: 0.9125\n",
      "Epoch 5/5\n",
      "800/800 [==============================] - 11s 14ms/step - loss: 0.0631 - accuracy: 0.9856 - val_loss: 0.3648 - val_accuracy: 0.9131\n",
      "50/50 [==============================] - 1s 11ms/step\n",
      "Fold 2\n",
      "Accuracy: 0.913125, - Precision: [0.91803279 0.93144208 0.88164251 0.92261905], - Recall: [0.94230769 0.92056075 0.96052632 0.82446809], - F1 Score: [0.93001186 0.92596945 0.91939547 0.87078652]\n",
      "Fold 3\n",
      "Epoch 1/5\n",
      "800/800 [==============================] - 13s 14ms/step - loss: 0.9650 - accuracy: 0.6144 - val_loss: 0.5996 - val_accuracy: 0.7806\n",
      "Epoch 2/5\n",
      "800/800 [==============================] - 10s 13ms/step - loss: 0.3816 - accuracy: 0.8748 - val_loss: 0.3788 - val_accuracy: 0.8794\n",
      "Epoch 3/5\n",
      "800/800 [==============================] - 11s 13ms/step - loss: 0.1599 - accuracy: 0.9544 - val_loss: 0.3223 - val_accuracy: 0.8956\n",
      "Epoch 4/5\n",
      "800/800 [==============================] - 10s 13ms/step - loss: 0.0809 - accuracy: 0.9789 - val_loss: 0.3374 - val_accuracy: 0.9069\n",
      "Epoch 5/5\n",
      "800/800 [==============================] - 11s 13ms/step - loss: 0.0655 - accuracy: 0.9822 - val_loss: 0.3384 - val_accuracy: 0.9125\n",
      "50/50 [==============================] - 1s 9ms/step\n",
      "Fold 3\n",
      "Accuracy: 0.9125, - Precision: [0.92230576 0.92622951 0.90430622 0.89928058], - Recall: [0.93401015 0.90884718 0.91970803 0.88862559], - F1 Score: [0.92812106 0.91745602 0.9119421  0.89392133]\n",
      "Fold 4\n",
      "Epoch 1/5\n",
      "800/800 [==============================] - 13s 13ms/step - loss: 0.9554 - accuracy: 0.6175 - val_loss: 0.6223 - val_accuracy: 0.7862\n",
      "Epoch 2/5\n",
      "800/800 [==============================] - 10s 13ms/step - loss: 0.3844 - accuracy: 0.8734 - val_loss: 0.3833 - val_accuracy: 0.8650\n",
      "Epoch 3/5\n",
      "800/800 [==============================] - 11s 13ms/step - loss: 0.1586 - accuracy: 0.9548 - val_loss: 0.2991 - val_accuracy: 0.9044\n",
      "Epoch 4/5\n",
      "800/800 [==============================] - 10s 13ms/step - loss: 0.0860 - accuracy: 0.9761 - val_loss: 0.3005 - val_accuracy: 0.9175\n",
      "Epoch 5/5\n",
      "800/800 [==============================] - 11s 13ms/step - loss: 0.0608 - accuracy: 0.9856 - val_loss: 0.3170 - val_accuracy: 0.9194\n",
      "50/50 [==============================] - 1s 8ms/step\n",
      "Fold 4\n",
      "Accuracy: 0.919375, - Precision: [0.91687042 0.9478022  0.92978208 0.88647343], - Recall: [0.94221106 0.8961039  0.92978208 0.90841584], - F1 Score: [0.92936803 0.9212283  0.92978208 0.89731051]\n",
      "Fold 5\n",
      "Epoch 1/5\n",
      "800/800 [==============================] - 14s 14ms/step - loss: 0.9655 - accuracy: 0.6152 - val_loss: 0.6318 - val_accuracy: 0.7756\n",
      "Epoch 2/5\n",
      "800/800 [==============================] - 10s 13ms/step - loss: 0.3727 - accuracy: 0.8761 - val_loss: 0.4105 - val_accuracy: 0.8756\n",
      "Epoch 3/5\n",
      "800/800 [==============================] - 8s 10ms/step - loss: 0.1462 - accuracy: 0.9588 - val_loss: 0.3566 - val_accuracy: 0.9094\n",
      "Epoch 4/5\n",
      "800/800 [==============================] - 3s 4ms/step - loss: 0.0786 - accuracy: 0.9809 - val_loss: 0.3557 - val_accuracy: 0.9169\n",
      "Epoch 5/5\n",
      "800/800 [==============================] - 3s 4ms/step - loss: 0.0613 - accuracy: 0.9850 - val_loss: 0.3796 - val_accuracy: 0.9156\n",
      "50/50 [==============================] - 0s 2ms/step\n",
      "Fold 5\n",
      "Accuracy: 0.915625, - Precision: [0.94087404 0.94822888 0.9037037  0.87699317], - Recall: [0.94087404 0.89690722 0.92424242 0.90163934], - F1 Score: [0.94087404 0.9218543  0.91385768 0.8891455 ]\n"
     ]
    }
   ],
   "source": [
    "# Initialize the k-fold and the number of folds\n",
    "kf = KFold(n_splits=5, shuffle=False, random_state=None)\n",
    "\n",
    "# The main loop\n",
    "for fold, (train_index, val_index) in enumerate(kf.split(data_texts), 1): # Start counting fold from 1\n",
    "    print(f\"Fold {fold}\") # Print the fold number for clarity\n",
    "\n",
    "    train_texts, val_texts = data_texts[train_index], data_texts[val_index] # Split the data into training and validation\n",
    "    train_labels, val_labels = data_labels[train_index], data_labels[val_index] # Split the labels into training and validation\n",
    "\n",
    "    # Initialize the tokenizer with a 10000 word limit\n",
    "    tokenizer = Tokenizer(num_words=10000)\n",
    "    tokenizer.fit_on_texts(train_texts)\n",
    "\n",
    "    # Tokenize and pad the training and validation data\n",
    "    train_sequences = tokenizer.texts_to_sequences(train_texts)\n",
    "    val_sequences = tokenizer.texts_to_sequences(val_texts)\n",
    "    train_padded = pad_sequences(train_sequences, maxlen=128, padding='post')\n",
    "    val_padded = pad_sequences(val_sequences, maxlen=128, padding='post')\n",
    "    \n",
    "\n",
    "    # Get the best model from the MLflow server\n",
    "    model = Sequential()\n",
    "    model.add(Embedding(input_dim=10000, output_dim=100, input_length=128))\n",
    "    model.add(Conv1D(filters=64, kernel_size=7, activation='relu'))\n",
    "    model.add(GlobalMaxPooling1D())\n",
    "    model.add(Dropout(0.2))\n",
    "    model.add(Dense(4, activation='softmax'))\n",
    "\n",
    "    model.compile(optimizer='adam', loss='sparse_categorical_crossentropy', metrics=['accuracy']) # Compile the model with the best parameters\n",
    "    model.fit(train_padded, train_labels, epochs=5, validation_data=(val_padded, val_labels), batch_size=8) # Train the model \n",
    "\n",
    "    # Use the trained model to make predictions on the validation data and calculate the scores\n",
    "    val_pred = np.argmax(model.predict(val_padded), axis=1)\n",
    "    accuracy = accuracy_score(val_labels, val_pred)\n",
    "    precision = precision_score(val_labels, val_pred, average=None)\n",
    "    recall = recall_score(val_labels, val_pred, average=None)\n",
    "    f1 = f1_score(val_labels, val_pred, average=None)\n",
    "\n",
    "    # Print the scores for the each fold\n",
    "    print(f\"Fold {fold}\")\n",
    "    print(f\"Accuracy: {accuracy}, - Precision: {precision}, - Recall: {recall}, - F1 Score: {f1}\")\n",
    "\n"
   ]
  }
 ],
 "metadata": {
  "kernelspec": {
   "display_name": "base",
   "language": "python",
   "name": "python3"
  },
  "language_info": {
   "codemirror_mode": {
    "name": "ipython",
    "version": 3
   },
   "file_extension": ".py",
   "mimetype": "text/x-python",
   "name": "python",
   "nbconvert_exporter": "python",
   "pygments_lexer": "ipython3",
   "version": "3.10.11"
  }
 },
 "nbformat": 4,
 "nbformat_minor": 2
}
